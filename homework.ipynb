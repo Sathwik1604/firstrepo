def parse(s):  # return a number
    n = 0
    in_fraction = False
    d = 0.1
    exponent = 0
    is_negative_exponent = False
    base_str = ""
    exponent_str = ""
    e_found = False

    for c in s:
        if c in "eE":
            if e_found:
                raise Exception("syntax error, more than one 'e' or 'E'")
            e_found = True
        elif c == ".":
            if e_found:
                raise Exception("syntax error, decimal point in exponent")
            if not in_fraction:
                in_fraction = True
            else:
                raise Exception("syntax error, more than one '.'")
        elif c == "-":
            if e_found and not exponent_str:
                is_negative_exponent = True
            else:
                raise Exception("syntax error, misplaced '-'")
        elif c.isdigit():
            if e_found:
                exponent_str += c
            else:
                if not in_fraction:
                    n = n * 10 + ord(c) - ord("0")
                else:
                    n = n + (ord(c) - ord("0")) * d
                    d = d / 10
        else:
            raise Exception(f"syntax error, unexpected character '{c}'")

    # Parse exponent part
    if exponent_str:
        exponent = 0
        for c in exponent_str:
            exponent = exponent * 10 + ord(c) - ord("0")
        if is_negative_exponent:
            exponent = -exponent

    # Apply exponent
    if exponent != 0:
        n *= 10 ** exponent

    return n

# Define a function to check closeness of floating-point numbers
def close_to(x, y, delta=0.000001):
    return abs(x - y) < delta

# Define test cases
def test_single_digit():
    assert parse("2") == 2
    assert parse("3") == 3

def test_multiple_digits():
    assert parse("21") == 21
    assert parse("437") == 437

def test_floating_point():
    assert close_to(parse("2.1"), 2.1)
    assert close_to(parse("43.7"), 43.7)
    assert close_to(parse("2.1248"), 2.1248)
    assert close_to(parse(".7"), 0.7)
    assert close_to(parse("7."), 7.0)

def test_scientific_notation():
    assert close_to(parse("12.34e5"), 12.34e5)
    assert close_to(parse("12.34E5"), 12.34e5)
    assert close_to(parse("12.34e-5"), 12.34e-5)
    assert close_to(parse("1e3"), 1000)
    assert close_to(parse("1e-3"), 0.001)
    assert close_to(parse("5.67E2"), 567)
    assert close_to(parse("5.67e-2"), 0.0567)

# Run test cases
test_single_digit()
test_multiple_digits()
test_floating_point()
test_scientific_notation()
print("All tests passed.")
